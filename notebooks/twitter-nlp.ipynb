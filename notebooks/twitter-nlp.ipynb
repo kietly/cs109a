{
 "cells": [
  {
   "cell_type": "markdown",
   "metadata": {
    "collapsed": true
   },
   "source": [
    "##### Data collection\n",
    "\n",
    "Special thanks to the My Information Bubble (MIB) research group who freely shared the dataset used for their research paper, The Paradigm-Shift of Social Spambots: Evidence, Theories, and Toolsfor the Arms Race, S. Cresci, R. Di Pietro, M. Petrocchi, A. Spognardi, M. Tesconi.\n",
    "\n",
    "##### NLP features engineering\n",
    "\n",
    "From the MIB dataset, we have added new features from NLP processing. Please add code and the new NLP features here.\n"
   ]
  },
  {
   "cell_type": "code",
   "execution_count": null,
   "metadata": {},
   "outputs": [],
   "source": []
  }
 ],
 "metadata": {
  "kernelspec": {
   "display_name": "Python 2",
   "language": "python",
   "name": "python2"
  },
  "language_info": {
   "codemirror_mode": {
    "name": "ipython",
    "version": 2
   },
   "file_extension": ".py",
   "mimetype": "text/x-python",
   "name": "python",
   "nbconvert_exporter": "python",
   "pygments_lexer": "ipython2",
   "version": "2.7.6"
  }
 },
 "nbformat": 4,
 "nbformat_minor": 0
}
