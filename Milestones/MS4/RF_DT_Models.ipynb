{
 "cells": [
  {
   "cell_type": "code",
   "execution_count": 1,
   "metadata": {
    "collapsed": true
   },
   "outputs": [],
   "source": [
    "import numpy as np\n",
    "import pandas as pd\n",
    "from sklearn.model_selection import cross_val_score, train_test_split\n",
    "from sklearn.utils import resample\n",
    "from sklearn.tree import DecisionTreeClassifier\n",
    "from sklearn.ensemble import RandomForestClassifier\n",
    "from sklearn.ensemble import AdaBoostClassifier\n",
    "from sklearn.metrics import accuracy_score\n",
    "import matplotlib.pyplot as plt\n",
    "\n",
    "%matplotlib inline\n",
    "\n",
    "import seaborn as sns\n",
    "sns.set(style='whitegrid')\n",
    "pd.set_option('display.width', 1500)\n",
    "pd.set_option('display.max_columns', 100)\n",
    "\n",
    "import warnings\n",
    "warnings.filterwarnings('ignore')"
   ]
  },
  {
   "cell_type": "markdown",
   "metadata": {},
   "source": [
    "#### Create train/test set for accounts and tweets ####\n",
    "\n",
    "##### Discussion:\n",
    "The dataset for accounts and tweets are split into train/test ratio of 2/3 and 1/3. From Milestone#3, we have determined only these features are important.\n",
    "\n",
    "|Base Account Features|Base Tweets Features|\n",
    "|:---|:---|\n",
    "|followers_count   |retweet_count   |\n",
    "|friends_count   |favorite_count   |\n",
    "|default_profile   |num_hashtags   | \n",
    "||num_urls|\n",
    "||num_mentions|\n"
   ]
  },
  {
   "cell_type": "code",
   "execution_count": 2,
   "metadata": {},
   "outputs": [
    {
     "data": {
      "text/html": [
       "<div>\n",
       "<style scoped>\n",
       "    .dataframe tbody tr th:only-of-type {\n",
       "        vertical-align: middle;\n",
       "    }\n",
       "\n",
       "    .dataframe tbody tr th {\n",
       "        vertical-align: top;\n",
       "    }\n",
       "\n",
       "    .dataframe thead th {\n",
       "        text-align: right;\n",
       "    }\n",
       "</style>\n",
       "<table border=\"1\" class=\"dataframe\">\n",
       "  <thead>\n",
       "    <tr style=\"text-align: right;\">\n",
       "      <th></th>\n",
       "      <th>followers_count</th>\n",
       "      <th>friends_count</th>\n",
       "      <th>default_profile</th>\n",
       "      <th>user_type</th>\n",
       "    </tr>\n",
       "  </thead>\n",
       "  <tbody>\n",
       "    <tr>\n",
       "      <th>390</th>\n",
       "      <td>1</td>\n",
       "      <td>37</td>\n",
       "      <td></td>\n",
       "      <td>0</td>\n",
       "    </tr>\n",
       "    <tr>\n",
       "      <th>184</th>\n",
       "      <td>12475</td>\n",
       "      <td>12131</td>\n",
       "      <td></td>\n",
       "      <td>0</td>\n",
       "    </tr>\n",
       "  </tbody>\n",
       "</table>\n",
       "</div>"
      ],
      "text/plain": [
       "     followers_count  friends_count default_profile  user_type\n",
       "390                1             37                          0\n",
       "184            12475          12131                          0"
      ]
     },
     "metadata": {},
     "output_type": "display_data"
    },
    {
     "name": "stdout",
     "output_type": "stream",
     "text": [
      "train account shape: (295, 4)\n",
      "test account shape: (146, 4)\n"
     ]
    }
   ],
   "source": [
    "account_nlp = pd.read_csv('../../data/users_nlp.csv',keep_default_na=False)\n",
    "all_accounts =  account_nlp[['followers_count', 'friends_count', 'default_profile', 'user_type']]\n",
    "train_base_account_df, test_base_account_df = train_test_split(all_accounts, test_size=0.33, random_state=42, stratify=all_accounts['user_type'])\n",
    "display(train_base_account_df.head(2))\n",
    "print('train account shape:',train_base_account_df.shape)\n",
    "print('test account shape:',test_base_account_df.shape)"
   ]
  },
  {
   "cell_type": "code",
   "execution_count": 3,
   "metadata": {},
   "outputs": [
    {
     "data": {
      "text/html": [
       "<div>\n",
       "<style scoped>\n",
       "    .dataframe tbody tr th:only-of-type {\n",
       "        vertical-align: middle;\n",
       "    }\n",
       "\n",
       "    .dataframe tbody tr th {\n",
       "        vertical-align: top;\n",
       "    }\n",
       "\n",
       "    .dataframe thead th {\n",
       "        text-align: right;\n",
       "    }\n",
       "</style>\n",
       "<table border=\"1\" class=\"dataframe\">\n",
       "  <thead>\n",
       "    <tr style=\"text-align: right;\">\n",
       "      <th></th>\n",
       "      <th>retweet_count</th>\n",
       "      <th>favorite_count</th>\n",
       "      <th>num_hashtags</th>\n",
       "      <th>num_urls</th>\n",
       "      <th>num_mentions</th>\n",
       "      <th>user_type</th>\n",
       "    </tr>\n",
       "  </thead>\n",
       "  <tbody>\n",
       "    <tr>\n",
       "      <th>54933</th>\n",
       "      <td>0</td>\n",
       "      <td>0</td>\n",
       "      <td>0</td>\n",
       "      <td>1</td>\n",
       "      <td>0</td>\n",
       "      <td>0</td>\n",
       "    </tr>\n",
       "    <tr>\n",
       "      <th>80644</th>\n",
       "      <td>0</td>\n",
       "      <td>0</td>\n",
       "      <td>0</td>\n",
       "      <td>1</td>\n",
       "      <td>0</td>\n",
       "      <td>0</td>\n",
       "    </tr>\n",
       "  </tbody>\n",
       "</table>\n",
       "</div>"
      ],
      "text/plain": [
       "       retweet_count  favorite_count  num_hashtags  num_urls  num_mentions  user_type\n",
       "54933              0               0             0         1             0          0\n",
       "80644              0               0             0         1             0          0"
      ]
     },
     "metadata": {},
     "output_type": "display_data"
    },
    {
     "name": "stdout",
     "output_type": "stream",
     "text": [
      "train tweets shape: (80574, 6)\n",
      "test tweets shape: (39686, 6)\n"
     ]
    }
   ],
   "source": [
    "combine_df = []\n",
    "for file_ in ['../../data/tweets_nlp_1.csv','../../data/tweets_nlp_2.csv','../../data/tweets_nlp_3.csv']:\n",
    "    df = pd.read_csv(file_,index_col=None, header=0,keep_default_na=False)\n",
    "    combine_df.append(df)\n",
    "all_tweets = pd.concat(combine_df, axis = 0, ignore_index = True)    \n",
    "all_tweets_df = all_tweets[['retweet_count', 'favorite_count', 'num_hashtags', 'num_urls', 'num_mentions','user_type']]\n",
    "train_base_tweets_df, test_base_tweets_df = train_test_split(all_tweets_df, test_size=0.33, random_state=42, stratify=all_tweets_df['user_type'])\n",
    "display(train_base_tweets_df.head(2))\n",
    "print('train tweets shape:',train_base_tweets_df.shape)\n",
    "print('test tweets shape:',test_base_tweets_df.shape)"
   ]
  },
  {
   "cell_type": "code",
   "execution_count": 16,
   "metadata": {},
   "outputs": [
    {
     "name": "stdout",
     "output_type": "stream",
     "text": [
      "(70986, 25)\n",
      "(49274, 25)\n"
     ]
    }
   ],
   "source": [
    "print(all_tweets_df[all_tweets_df.user_type == 0].shape)\n",
    "print(all_tweets_df[all_tweets_df.user_type == 1].shape)\n"
   ]
  },
  {
   "cell_type": "markdown",
   "metadata": {},
   "source": [
    "#### Base Decision Tree without NLP\n",
    "\n",
    "First we determine the optimal depth for Decision Tree, then use that depth to train Random Forest. From the plot, the depth > 6 does not improve accuracy. We will pick depth = 6 as best depth. \n",
    "The test accurracy is 0.793 and training accuracy 0.795 so nearly match, we can conlude there is no overfit issue. "
   ]
  },
  {
   "cell_type": "code",
   "execution_count": 4,
   "metadata": {},
   "outputs": [
    {
     "data": {
      "image/png": "[encoded data removed]",
      "text/plain": [
       "<Figure size 432x288 with 1 Axes>"
      ]
     },
     "metadata": {},
     "output_type": "display_data"
    }
   ],
   "source": [
    "#Perform 5-fold cross validation and store results\n",
    "X_train, y_train = train_base_tweets_df.drop('user_type',axis=1), train_base_tweets_df['user_type']\n",
    "X_test, y_test = test_base_tweets_df.drop('user_type',axis=1), test_base_tweets_df['user_type']\n",
    "\n",
    "depths, train_scores, cvmeans, cvstds, cv_scores = [], [], [], [], []\n",
    "for depth in range(1,21):\n",
    "    depths.append(depth)\n",
    "    dt = DecisionTreeClassifier(max_depth=depth)\n",
    "    train_scores.append(dt.fit(X_train, y_train).score(X_train, y_train))\n",
    "    scores = cross_val_score(estimator=dt, X=X_train, y=y_train, cv=5)\n",
    "    cvmeans.append(scores.mean())\n",
    "    cvstds.append(scores.std())\n",
    "\n",
    "#Alter data structure for using internal numpy functions\n",
    "cvmeans = np.array(cvmeans)\n",
    "cvstds = np.array(cvstds)\n",
    "#Plot Means and Shade the +-2 SD Interval\n",
    "plt.plot(depths, cvmeans, '*-', label=\"Mean CV\")\n",
    "plt.fill_between(depths, cvmeans - 2*cvstds, cvmeans + 2*cvstds, alpha=0.3)\n",
    "ylim = plt.ylim()\n",
    "plt.plot(depths, train_scores, '-+', label=\"Train\")\n",
    "plt.ylim(ylim)\n",
    "plt.legend()\n",
    "plt.ylabel(\"Accuracy\")\n",
    "plt.xlabel(\"Max Depth\")\n",
    "plt.title('Tweets Mean CV accuracy vs max depth')\n",
    "plt.xticks(depths)\n",
    "plt.show()"
   ]
  },
  {
   "cell_type": "code",
   "execution_count": 5,
   "metadata": {},
   "outputs": [
    {
     "name": "stdout",
     "output_type": "stream",
     "text": [
      "Accuracy: Mean=0.795, +/- 2 SD: [0.789 -- 0.800]\n"
     ]
    }
   ],
   "source": [
    "#Choosing the best depth\n",
    "idx = depths.index(6)\n",
    "print(\"Accuracy: Mean={:.3f}, +/- 2 SD: [{:.3f} -- {:.3f}]\".format(\n",
    "    cvmeans[idx], cvmeans[idx] - 2*cvstds[idx], cvmeans[idx] + 2*cvstds[idx]))"
   ]
  },
  {
   "cell_type": "code",
   "execution_count": 6,
   "metadata": {},
   "outputs": [
    {
     "name": "stdout",
     "output_type": "stream",
     "text": [
      "The tree of depth 6 achieved an Accuracy of 0.793 on the test set.\n"
     ]
    }
   ],
   "source": [
    "#Evaluate performance on Test Set\n",
    "best_cv_depth = 6\n",
    "fitted_tree = DecisionTreeClassifier(max_depth=best_cv_depth).fit(X_train, y_train)\n",
    "best_cv_tree_train_score = fitted_tree.score(X_train, y_train)\n",
    "best_cv_tree_test_score = fitted_tree.score(X_test, y_test)\n",
    "print(f\"The tree of depth {best_cv_depth} achieved an Accuracy of {best_cv_tree_test_score:.3f} on the test set.\")"
   ]
  },
  {
   "cell_type": "markdown",
   "metadata": {},
   "source": [
    "### Base Random Forest without NLP features"
   ]
  },
  {
   "cell_type": "code",
   "execution_count": 7,
   "metadata": {},
   "outputs": [
    {
     "name": "stdout",
     "output_type": "stream",
     "text": [
      "The Random Forest scored 0.795 on the training set.\n",
      "The Random Forest scored 0.794 on the test set.\n"
     ]
    }
   ],
   "source": [
    "#Fit a Random Forest model\n",
    "fitted_rf = RandomForestClassifier(n_estimators=6, max_depth=6).fit(X_train,y_train)\n",
    "random_forest_train_score = fitted_rf.score(X_train, y_train)\n",
    "random_forest_test_score = fitted_rf.score(X_test, y_test)\n",
    "print(f\"The Random Forest scored {random_forest_train_score:.3f} on the training set.\")\n",
    "print(f\"The Random Forest scored {random_forest_test_score:.3f} on the test set.\")"
   ]
  },
  {
   "cell_type": "markdown",
   "metadata": {},
   "source": [
    "### Decision Tree with NLP features"
   ]
  },
  {
   "cell_type": "code",
   "execution_count": 27,
   "metadata": {},
   "outputs": [
    {
     "data": {
      "text/html": [
       "<div>\n",
       "<style scoped>\n",
       "    .dataframe tbody tr th:only-of-type {\n",
       "        vertical-align: middle;\n",
       "    }\n",
       "\n",
       "    .dataframe tbody tr th {\n",
       "        vertical-align: top;\n",
       "    }\n",
       "\n",
       "    .dataframe thead th {\n",
       "        text-align: right;\n",
       "    }\n",
       "</style>\n",
       "<table border=\"1\" class=\"dataframe\">\n",
       "  <thead>\n",
       "    <tr style=\"text-align: right;\">\n",
       "      <th></th>\n",
       "      <th>retweet_count</th>\n",
       "      <th>favorite_count</th>\n",
       "      <th>num_hashtags</th>\n",
       "      <th>num_urls</th>\n",
       "      <th>num_mentions</th>\n",
       "      <th>user_type</th>\n",
       "      <th>sentiment_negative</th>\n",
       "      <th>sentiment_neutral</th>\n",
       "      <th>sentiment_positive</th>\n",
       "      <th>neg_count</th>\n",
       "      <th>pos_count</th>\n",
       "      <th>ntl_count</th>\n",
       "      <th>sentiment_sum</th>\n",
       "      <th>ratio_pos</th>\n",
       "      <th>ratio_neg</th>\n",
       "      <th>ratio_neu</th>\n",
       "      <th>token_count</th>\n",
       "      <th>url_token_ratio</th>\n",
       "      <th>ant</th>\n",
       "      <th>disgust</th>\n",
       "      <th>fear</th>\n",
       "      <th>joy</th>\n",
       "      <th>sadness</th>\n",
       "      <th>surprise</th>\n",
       "      <th>trust</th>\n",
       "    </tr>\n",
       "  </thead>\n",
       "  <tbody>\n",
       "    <tr>\n",
       "      <th>54933</th>\n",
       "      <td>0</td>\n",
       "      <td>0</td>\n",
       "      <td>0</td>\n",
       "      <td>1</td>\n",
       "      <td>0</td>\n",
       "      <td>0</td>\n",
       "      <td>0</td>\n",
       "      <td>0</td>\n",
       "      <td>1</td>\n",
       "      <td>281.0</td>\n",
       "      <td>2416.0</td>\n",
       "      <td>503.0</td>\n",
       "      <td>3200.0</td>\n",
       "      <td>0.755000</td>\n",
       "      <td>0.087813</td>\n",
       "      <td>0.157188</td>\n",
       "      <td>84</td>\n",
       "      <td>0.011905</td>\n",
       "      <td>0</td>\n",
       "      <td>0</td>\n",
       "      <td>0</td>\n",
       "      <td>0</td>\n",
       "      <td>0</td>\n",
       "      <td>0</td>\n",
       "      <td>0</td>\n",
       "    </tr>\n",
       "    <tr>\n",
       "      <th>80644</th>\n",
       "      <td>0</td>\n",
       "      <td>0</td>\n",
       "      <td>0</td>\n",
       "      <td>1</td>\n",
       "      <td>0</td>\n",
       "      <td>0</td>\n",
       "      <td>0</td>\n",
       "      <td>1</td>\n",
       "      <td>0</td>\n",
       "      <td>258.0</td>\n",
       "      <td>1331.0</td>\n",
       "      <td>1611.0</td>\n",
       "      <td>3200.0</td>\n",
       "      <td>0.415938</td>\n",
       "      <td>0.080625</td>\n",
       "      <td>0.503437</td>\n",
       "      <td>139</td>\n",
       "      <td>0.007194</td>\n",
       "      <td>0</td>\n",
       "      <td>0</td>\n",
       "      <td>0</td>\n",
       "      <td>0</td>\n",
       "      <td>0</td>\n",
       "      <td>0</td>\n",
       "      <td>0</td>\n",
       "    </tr>\n",
       "  </tbody>\n",
       "</table>\n",
       "</div>"
      ],
      "text/plain": [
       "       retweet_count  favorite_count  num_hashtags  num_urls  num_mentions  user_type  sentiment_negative  sentiment_neutral  sentiment_positive  neg_count  pos_count  ntl_count  sentiment_sum  ratio_pos  ratio_neg  ratio_neu  token_count  url_token_ratio  ant  disgust  fear  joy  sadness  surprise  trust\n",
       "54933              0               0             0         1             0          0                   0                  0                   1      281.0     2416.0      503.0         3200.0   0.755000   0.087813   0.157188           84         0.011905    0        0     0    0        0         0      0\n",
       "80644              0               0             0         1             0          0                   0                  1                   0      258.0     1331.0     1611.0         3200.0   0.415938   0.080625   0.503437          139         0.007194    0        0     0    0        0         0      0"
      ]
     },
     "metadata": {},
     "output_type": "display_data"
    },
    {
     "name": "stdout",
     "output_type": "stream",
     "text": [
      "train tweets shape: (80574, 25)\n",
      "test tweets shape: (39686, 25)\n"
     ]
    }
   ],
   "source": [
    "all_tweets_df = all_tweets[['retweet_count', 'favorite_count', 'num_hashtags', 'num_urls', 'num_mentions','user_type',\n",
    "                            'sentiment_negative', 'sentiment_neutral', 'sentiment_positive', 'neg_count', 'pos_count', 'ntl_count', \n",
    "                            'sentiment_sum', 'ratio_pos', 'ratio_neg', 'ratio_neu', 'token_count', 'url_token_ratio', 'ant', \n",
    "                            'disgust', 'fear', 'joy', 'sadness', 'surprise', 'trust']]\n",
    "train_base_tweets_df, test_base_tweets_df = train_test_split(all_tweets_df, test_size=0.33, random_state=42, stratify=all_tweets_df['user_type'])\n",
    "display(train_base_tweets_df.head(2))\n",
    "print('train tweets shape:',train_base_tweets_df.shape)\n",
    "print('test tweets shape:',test_base_tweets_df.shape)"
   ]
  },
  {
   "cell_type": "code",
   "execution_count": 28,
   "metadata": {},
   "outputs": [
    {
     "name": "stdout",
     "output_type": "stream",
     "text": [
      "<class 'pandas.core.frame.DataFrame'>\n",
      "Int64Index: 80574 entries, 54933 to 40769\n",
      "Data columns (total 25 columns):\n",
      "retweet_count         80574 non-null int64\n",
      "favorite_count        80574 non-null int64\n",
      "num_hashtags          80574 non-null int64\n",
      "num_urls              80574 non-null int64\n",
      "num_mentions          80574 non-null int64\n",
      "user_type             80574 non-null int64\n",
      "sentiment_negative    80574 non-null int64\n",
      "sentiment_neutral     80574 non-null int64\n",
      "sentiment_positive    80574 non-null int64\n",
      "neg_count             80574 non-null float64\n",
      "pos_count             80574 non-null float64\n",
      "ntl_count             80574 non-null float64\n",
      "sentiment_sum         80574 non-null float64\n",
      "ratio_pos             80574 non-null float64\n",
      "ratio_neg             80574 non-null float64\n",
      "ratio_neu             80574 non-null float64\n",
      "token_count           80574 non-null int64\n",
      "url_token_ratio       80574 non-null float64\n",
      "ant                   80574 non-null int64\n",
      "disgust               80574 non-null int64\n",
      "fear                  80574 non-null int64\n",
      "joy                   80574 non-null int64\n",
      "sadness               80574 non-null int64\n",
      "surprise              80574 non-null int64\n",
      "trust                 80574 non-null int64\n",
      "dtypes: float64(8), int64(17)\n",
      "memory usage: 16.0 MB\n"
     ]
    }
   ],
   "source": [
    "train_base_tweets_df.info()"
   ]
  },
  {
   "cell_type": "code",
   "execution_count": 29,
   "metadata": {},
   "outputs": [
    {
     "data": {
      "image/png": "[encoded data removed]",
      "text/plain": [
       "<Figure size 432x288 with 1 Axes>"
      ]
     },
     "metadata": {},
     "output_type": "display_data"
    }
   ],
   "source": [
    "#Perform 5-fold cross validation and store results\n",
    "X_train, y_train = train_base_tweets_df.drop('user_type',axis=1), train_base_tweets_df['user_type']\n",
    "X_test, y_test = test_base_tweets_df.drop('user_type',axis=1), test_base_tweets_df['user_type']\n",
    "\n",
    "depths, train_scores, cvmeans, cvstds, cv_scores = [], [], [], [], []\n",
    "for depth in range(1,21):\n",
    "    depths.append(depth)\n",
    "    dt = DecisionTreeClassifier(max_depth=depth)\n",
    "    train_scores.append(dt.fit(X_train, y_train).score(X_train, y_train))\n",
    "    scores = cross_val_score(estimator=dt, X=X_train, y=y_train, cv=5)\n",
    "    cvmeans.append(scores.mean())\n",
    "    cvstds.append(scores.std())\n",
    "\n",
    "#Alter data structure for using internal numpy functions\n",
    "cvmeans = np.array(cvmeans)\n",
    "cvstds = np.array(cvstds)\n",
    "#Plot Means and Shade the +-2 SD Interval\n",
    "plt.plot(depths, cvmeans, '*-', label=\"Mean CV\")\n",
    "plt.fill_between(depths, cvmeans - 2*cvstds, cvmeans + 2*cvstds, alpha=0.3)\n",
    "ylim = plt.ylim()\n",
    "plt.plot(depths, train_scores, '-+', label=\"Train\")\n",
    "plt.ylim(ylim)\n",
    "plt.legend()\n",
    "plt.ylabel(\"Accuracy\")\n",
    "plt.xlabel(\"Max Depth\")\n",
    "plt.title('Tweets Mean CV accuracy vs max depth')\n",
    "plt.xticks(depths)\n",
    "plt.show()"
   ]
  },
  {
   "cell_type": "code",
   "execution_count": 30,
   "metadata": {},
   "outputs": [
    {
     "name": "stdout",
     "output_type": "stream",
     "text": [
      "Accuracy: Mean=0.999, +/- 2 SD: [0.998 -- 0.999]\n"
     ]
    }
   ],
   "source": [
    "#Choosing the best depth\n",
    "idx = depths.index(8)\n",
    "print(\"Accuracy: Mean={:.3f}, +/- 2 SD: [{:.3f} -- {:.3f}]\".format(\n",
    "    cvmeans[idx], cvmeans[idx] - 2*cvstds[idx], cvmeans[idx] + 2*cvstds[idx]))"
   ]
  },
  {
   "cell_type": "code",
   "execution_count": 31,
   "metadata": {},
   "outputs": [
    {
     "name": "stdout",
     "output_type": "stream",
     "text": [
      "The Random Forest scored 0.995 on the training set.\n",
      "The Random Forest scored 0.995 on the test set.\n"
     ]
    }
   ],
   "source": [
    "#Fit a Random Forest model\n",
    "fitted_rf = RandomForestClassifier(n_estimators=8, max_depth=8).fit(X_train,y_train)\n",
    "random_forest_train_score = fitted_rf.score(X_train, y_train)\n",
    "random_forest_test_score = fitted_rf.score(X_test, y_test)\n",
    "print(f\"The Random Forest scored {random_forest_train_score:.3f} on the training set.\")\n",
    "print(f\"The Random Forest scored {random_forest_test_score:.3f} on the test set.\")"
   ]
  },
  {
   "cell_type": "code",
   "execution_count": null,
   "metadata": {},
   "outputs": [],
   "source": []
  }
 ],
 "metadata": {
  "kernelspec": {
   "display_name": "Python 3",
   "language": "python",
   "name": "python3"
  },
  "language_info": {
   "codemirror_mode": {
    "name": "ipython",
    "version": 3
   },
   "file_extension": ".py",
   "mimetype": "text/x-python",
   "name": "python",
   "nbconvert_exporter": "python",
   "pygments_lexer": "ipython3",
   "version": "3.6.5"
  }
 },
 "nbformat": 4,
 "nbformat_minor": 2
}
